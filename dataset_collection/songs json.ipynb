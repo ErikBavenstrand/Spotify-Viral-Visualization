{
 "cells": [
  {
   "cell_type": "code",
   "execution_count": 2,
   "metadata": {},
   "outputs": [],
   "source": [
    "import os\n",
    "import pandas as pd\n",
    "import pprint\n",
    "import json\n",
    "pp = pprint.PrettyPrinter(indent=4)\n",
    "from IPython.display import display"
   ]
  },
  {
   "cell_type": "code",
   "execution_count": 3,
   "metadata": {},
   "outputs": [],
   "source": [
    "masterlist_path = '../data/song_masterlist.csv'\n",
    "base = '../data/countries/'"
   ]
  },
  {
   "cell_type": "code",
   "execution_count": 4,
   "metadata": {},
   "outputs": [],
   "source": [
    "songs = pd.read_csv(masterlist_path)"
   ]
  },
  {
   "cell_type": "code",
   "execution_count": 7,
   "metadata": {},
   "outputs": [],
   "source": [
    "masterblaster = {}\n",
    "avoid = ['Andorra', 'Hong Kong', 'Malta', 'Singapore']\n",
    "for directory in os.listdir(base):\n",
    "    if directory == \".DS_Store\" or directory in avoid:\n",
    "        continue\n",
    "    path = base + directory + '/'\n",
    "    \n",
    "    for filename in os.listdir(path):\n",
    "        try:\n",
    "            \n",
    "            if directory == \".DS_Store\" or not filename.endswith('.csv') :\n",
    "                continue\n",
    "                \n",
    "            temp = pd.read_csv(path+filename)\n",
    "            temp = temp.fillna(\"Unknown\")\n",
    "            date = filename.split('_')[1]\n",
    "            date = date.split('.')[0]\n",
    "            week = {}\n",
    "            \n",
    "            size = 10\n",
    "            n_songs = range(0, size)\n",
    "            if temp.shape[0] < size:\n",
    "                n_songs = range(0,temp.shape[0])\n",
    "            \n",
    "            temp_top = temp.iloc[n_songs]\n",
    "            temp_songs = songs.iloc[temp_top['Song_Index']]\n",
    "            temp_songs = temp_songs.reset_index(drop=True)\n",
    "            temp_songs = temp_songs.dropna()\n",
    "            temp_dict = temp_songs.to_dict('index')\n",
    "            temp_dict = [v for k, v in temp_dict.items()]\n",
    "\n",
    "            if date in masterblaster:\n",
    "                countries = masterblaster.get(date)\n",
    "                countries.update({directory:temp_dict})\n",
    "            else:\n",
    "                countries = {directory:temp_dict}\n",
    "                masterblaster.update({date:countries})\n",
    "        except:\n",
    "            print(filename)"
   ]
  },
  {
   "cell_type": "code",
   "execution_count": 8,
   "metadata": {},
   "outputs": [],
   "source": [
    "with open('week_countries_songs.json', 'w') as fp:\n",
    "    json.dump(masterblaster, fp)"
   ]
  },
  {
   "cell_type": "code",
   "execution_count": null,
   "metadata": {},
   "outputs": [],
   "source": []
  }
 ],
 "metadata": {
  "kernelspec": {
   "display_name": "Python 3.7.5 64-bit",
   "language": "python",
   "name": "python37564bit822f958ef1a6469287a660318459b413"
  },
  "language_info": {
   "codemirror_mode": {
    "name": "ipython",
    "version": 3
   },
   "file_extension": ".py",
   "mimetype": "text/x-python",
   "name": "python",
   "nbconvert_exporter": "python",
   "pygments_lexer": "ipython3",
   "version": "3.7.5-final"
  }
 },
 "nbformat": 4,
 "nbformat_minor": 2
}